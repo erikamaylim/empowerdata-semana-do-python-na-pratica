{
 "cells": [
  {
   "cell_type": "markdown",
   "id": "990c0511",
   "metadata": {},
   "source": [
    "# Sistema de Orçamentos"
   ]
  },
  {
   "cell_type": "markdown",
   "id": "48b98790",
   "metadata": {},
   "source": [
    "## Mostrando dados para o usuário"
   ]
  },
  {
   "cell_type": "code",
   "execution_count": 3,
   "id": "838ef56d",
   "metadata": {},
   "outputs": [
    {
     "name": "stdout",
     "output_type": "stream",
     "text": [
      "Orçamento gerado com sucesso!\n"
     ]
    }
   ],
   "source": [
    "print('Orçamento gerado com sucesso!')"
   ]
  },
  {
   "cell_type": "markdown",
   "id": "6c29c6cf",
   "metadata": {},
   "source": [
    "## Entrada de dados do usuário"
   ]
  },
  {
   "cell_type": "code",
   "execution_count": 4,
   "id": "b0bc5dee",
   "metadata": {},
   "outputs": [
    {
     "name": "stdout",
     "output_type": "stream",
     "text": [
      "Digite a descrição do projeto: Projeto Python\n",
      "Digite a quantidade de horas previstas: 300\n",
      "Digite o valor da hora trabalhada: 200\n",
      "Digite o prazo: 3 meses\n"
     ]
    }
   ],
   "source": [
    "projeto = str(input('Digite a descrição do projeto: '))\n",
    "horas_previstas = str(input('Digite a quantidade de horas previstas: '))\n",
    "valor_hora_trabalhada = str(input('Digite o valor da hora trabalhada: '))\n",
    "prazo = str(input('Digite o prazo: '))\n"
   ]
  },
  {
   "cell_type": "markdown",
   "id": "36a678c8",
   "metadata": {},
   "source": [
    "## Calcular o valor total do projeto"
   ]
  },
  {
   "cell_type": "code",
   "execution_count": 10,
   "id": "8fc9757a",
   "metadata": {},
   "outputs": [],
   "source": [
    "valor_total = int(horas_previstas) * int(valor_hora_trabalhada)"
   ]
  },
  {
   "cell_type": "code",
   "execution_count": 11,
   "id": "28b7e28d",
   "metadata": {},
   "outputs": [
    {
     "data": {
      "text/plain": [
       "60000"
      ]
     },
     "execution_count": 11,
     "metadata": {},
     "output_type": "execute_result"
    }
   ],
   "source": [
    "valor_total"
   ]
  },
  {
   "cell_type": "markdown",
   "id": "953a9316",
   "metadata": {},
   "source": [
    "## Gerando o PDF do projeto"
   ]
  },
  {
   "cell_type": "code",
   "execution_count": 5,
   "id": "0a944e64",
   "metadata": {},
   "outputs": [
    {
     "name": "stdout",
     "output_type": "stream",
     "text": [
      "Requirement already satisfied: fpdf in c:\\users\\kika_\\anaconda3\\lib\\site-packages (1.7.2)\n"
     ]
    }
   ],
   "source": [
    "!pip install fpdf"
   ]
  },
  {
   "cell_type": "code",
   "execution_count": 12,
   "id": "6b2a0bb1",
   "metadata": {},
   "outputs": [],
   "source": [
    "from fpdf import FPDF"
   ]
  },
  {
   "cell_type": "code",
   "execution_count": 16,
   "id": "3eb775f4",
   "metadata": {},
   "outputs": [
    {
     "name": "stdout",
     "output_type": "stream",
     "text": [
      "Orçamento gerado com sucesso!\n"
     ]
    }
   ],
   "source": [
    "pdf = FPDF()\n",
    "\n",
    "pdf.add_page()\n",
    "pdf.set_font('Arial')\n",
    "pdf.image('template.png', x=0, y=0)\n",
    "\n",
    "pdf.text(115, 145, projeto)\n",
    "pdf.text(115, 160, horas_previstas)\n",
    "pdf.text(115, 175, valor_hora_trabalhada)\n",
    "pdf.text(115, 190, prazo)\n",
    "pdf.text(115, 205, str(valor_total))\n",
    "\n",
    "\n",
    "pdf.output('Orcamento.pdf')\n",
    "print('Orçamento gerado com sucesso!')"
   ]
  }
 ],
 "metadata": {
  "kernelspec": {
   "display_name": "Python 3 (ipykernel)",
   "language": "python",
   "name": "python3"
  },
  "language_info": {
   "codemirror_mode": {
    "name": "ipython",
    "version": 3
   },
   "file_extension": ".py",
   "mimetype": "text/x-python",
   "name": "python",
   "nbconvert_exporter": "python",
   "pygments_lexer": "ipython3",
   "version": "3.10.12"
  }
 },
 "nbformat": 4,
 "nbformat_minor": 5
}
